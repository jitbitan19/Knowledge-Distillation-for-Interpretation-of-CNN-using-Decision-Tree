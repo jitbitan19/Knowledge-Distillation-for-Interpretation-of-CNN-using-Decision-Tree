{
 "cells": [
  {
   "cell_type": "code",
   "execution_count": 1,
   "metadata": {},
   "outputs": [],
   "source": [
    "import pandas as pd\n",
    "import numpy as np\n",
    "import matplotlib.pyplot as plt\n",
    "from torch.utils.data import DataLoader\n",
    "from torchvision import datasets, transforms\n",
    "import seaborn as sns\n",
    "\n",
    "import torch\n",
    "import torch.nn as nn\n",
    "import torch.nn.functional as F\n",
    "from torch.utils.data import DataLoader\n"
   ]
  },
  {
   "cell_type": "code",
   "execution_count": 2,
   "metadata": {},
   "outputs": [
    {
     "name": "stdout",
     "output_type": "stream",
     "text": [
      "Downloading https://thor.robots.ox.ac.uk/datasets/flowers-102/102flowers.tgz to flowers102\\train\\flowers-102\\102flowers.tgz\n"
     ]
    },
    {
     "name": "stderr",
     "output_type": "stream",
     "text": [
      "100%|██████████| 344862509/344862509 [09:15<00:00, 620313.84it/s] \n"
     ]
    },
    {
     "name": "stdout",
     "output_type": "stream",
     "text": [
      "Extracting flowers102\\train\\flowers-102\\102flowers.tgz to flowers102\\train\\flowers-102\n",
      "Downloading https://thor.robots.ox.ac.uk/datasets/flowers-102/imagelabels.mat to flowers102\\train\\flowers-102\\imagelabels.mat\n"
     ]
    },
    {
     "name": "stderr",
     "output_type": "stream",
     "text": [
      "100%|██████████| 502/502 [00:00<00:00, 250480.68it/s]\n"
     ]
    },
    {
     "name": "stdout",
     "output_type": "stream",
     "text": [
      "Downloading https://thor.robots.ox.ac.uk/datasets/flowers-102/setid.mat to flowers102\\train\\flowers-102\\setid.mat\n"
     ]
    },
    {
     "name": "stderr",
     "output_type": "stream",
     "text": [
      "100%|██████████| 14989/14989 [00:00<00:00, 7357334.42it/s]\n"
     ]
    },
    {
     "name": "stdout",
     "output_type": "stream",
     "text": [
      "Downloading https://thor.robots.ox.ac.uk/datasets/flowers-102/102flowers.tgz to flowers102\\val\\flowers-102\\102flowers.tgz\n"
     ]
    },
    {
     "name": "stderr",
     "output_type": "stream",
     "text": [
      "100%|██████████| 344862509/344862509 [08:32<00:00, 673134.05it/s] \n"
     ]
    },
    {
     "name": "stdout",
     "output_type": "stream",
     "text": [
      "Extracting flowers102\\val\\flowers-102\\102flowers.tgz to flowers102\\val\\flowers-102\n",
      "Downloading https://thor.robots.ox.ac.uk/datasets/flowers-102/imagelabels.mat to flowers102\\val\\flowers-102\\imagelabels.mat\n"
     ]
    },
    {
     "name": "stderr",
     "output_type": "stream",
     "text": [
      "100%|██████████| 502/502 [00:00<00:00, 260071.72it/s]\n"
     ]
    },
    {
     "name": "stdout",
     "output_type": "stream",
     "text": [
      "Downloading https://thor.robots.ox.ac.uk/datasets/flowers-102/setid.mat to flowers102\\val\\flowers-102\\setid.mat\n"
     ]
    },
    {
     "name": "stderr",
     "output_type": "stream",
     "text": [
      "100%|██████████| 14989/14989 [00:00<00:00, 7533663.59it/s]\n"
     ]
    },
    {
     "name": "stdout",
     "output_type": "stream",
     "text": [
      "Downloading https://thor.robots.ox.ac.uk/datasets/flowers-102/102flowers.tgz to flowers102\\test\\flowers-102\\102flowers.tgz\n"
     ]
    },
    {
     "name": "stderr",
     "output_type": "stream",
     "text": [
      "100%|██████████| 344862509/344862509 [07:19<00:00, 784748.29it/s] \n"
     ]
    },
    {
     "name": "stdout",
     "output_type": "stream",
     "text": [
      "Extracting flowers102\\test\\flowers-102\\102flowers.tgz to flowers102\\test\\flowers-102\n",
      "Downloading https://thor.robots.ox.ac.uk/datasets/flowers-102/imagelabels.mat to flowers102\\test\\flowers-102\\imagelabels.mat\n"
     ]
    },
    {
     "name": "stderr",
     "output_type": "stream",
     "text": [
      "100%|██████████| 502/502 [00:00<00:00, 501797.09it/s]\n"
     ]
    },
    {
     "name": "stdout",
     "output_type": "stream",
     "text": [
      "Downloading https://thor.robots.ox.ac.uk/datasets/flowers-102/setid.mat to flowers102\\test\\flowers-102\\setid.mat\n"
     ]
    },
    {
     "name": "stderr",
     "output_type": "stream",
     "text": [
      "100%|██████████| 14989/14989 [00:00<00:00, 15596234.84it/s]\n"
     ]
    }
   ],
   "source": [
    "txf = transforms.Compose([\n",
    "    transforms.Resize((227, 227)),\n",
    "    transforms.ToTensor()\n",
    "])\n",
    "\n",
    "train_data = datasets.Flowers102(\n",
    "    root='flowers102/train/',\n",
    "    split='train',\n",
    "    transform=txf,\n",
    "    download=True\n",
    ")\n",
    "\n",
    "val_data = datasets.Flowers102(\n",
    "    root='flowers102/val',\n",
    "    split='val',\n",
    "    transform=txf,\n",
    "    download=True\n",
    ")\n",
    "\n",
    "test_data = datasets.Flowers102(\n",
    "    root='flowers102/test',\n",
    "    split='val',\n",
    "    transform=txf,\n",
    "    download=True\n",
    ")\n"
   ]
  },
  {
   "cell_type": "code",
   "execution_count": 16,
   "metadata": {},
   "outputs": [
    {
     "name": "stdout",
     "output_type": "stream",
     "text": [
      "Training images available: 1020\n",
      "Validation images available:  1020\n",
      "Testing images available:  6149\n"
     ]
    }
   ],
   "source": [
    "torch.manual_seed(42)\n",
    "train_loader = DataLoader(train_data, batch_size=10, shuffle=True)\n",
    "val_loader = DataLoader(val_data, batch_size=10, shuffle=True)\n",
    "test_loader = DataLoader(test_data, batch_size=10, shuffle=True)\n",
    "\n",
    "print(f'Training images available: {len(train_data)}')\n",
    "print(f'Validation images available:  {len(val_data)}')\n",
    "print(f'Testing images available:  {len(test_data)}')\n"
   ]
  },
  {
   "cell_type": "code",
   "execution_count": 48,
   "metadata": {},
   "outputs": [],
   "source": [
    "class AlexNet(nn.Module):\n",
    "    def __init__(self, out_sz, p=0.5) -> None:\n",
    "        super().__init__()\n",
    "        self.drop = p\n",
    "\n",
    "        self.conv = nn.Sequential(\n",
    "            nn.Conv2d(\n",
    "                in_channels=3,\n",
    "                out_channels=96,\n",
    "                kernel_size=11,\n",
    "                stride=4,\n",
    "            ),\n",
    "            nn.ReLU(inplace=True),\n",
    "            nn.MaxPool2d(kernel_size=3, stride=2),\n",
    "\n",
    "            nn.Conv2d(\n",
    "                in_channels=96,\n",
    "                out_channels=256,\n",
    "                kernel_size=5,\n",
    "                padding=2\n",
    "            ),\n",
    "            nn.ReLU(inplace=True),\n",
    "            nn.MaxPool2d(kernel_size=3, stride=2),\n",
    "\n",
    "            nn.Conv2d(\n",
    "                in_channels=256,\n",
    "                out_channels=384,\n",
    "                kernel_size=3,\n",
    "                padding=1,\n",
    "            ),\n",
    "            nn.ReLU(inplace=True),\n",
    "\n",
    "            nn.Conv2d(\n",
    "                in_channels=384,\n",
    "                out_channels=384,\n",
    "                kernel_size=3,\n",
    "                padding=1,\n",
    "            ),\n",
    "            nn.ReLU(inplace=True),\n",
    "\n",
    "            nn.Conv2d(\n",
    "                in_channels=384,\n",
    "                out_channels=256,\n",
    "                kernel_size=3,\n",
    "                padding=1\n",
    "            ),\n",
    "            nn.ReLU(inplace=True),\n",
    "            nn.MaxPool2d(kernel_size=3, stride=2),\n",
    "\n",
    "            nn.Dropout(self.drop)\n",
    "        )\n",
    "\n",
    "        self.fc1 = nn.Linear(256*6*6, 4096)\n",
    "        self.fc2 = nn.Linear(4096, 4096)\n",
    "        self.fc3 = nn.Linear(4096, 300)\n",
    "        self.fc4 = nn.Linear(300, out_sz)\n",
    "\n",
    "    def forward(self, x):\n",
    "        x = self.conv(x)\n",
    "        x = torch.flatten(x, 1)\n",
    "        x = F.dropout(F.relu(self.fc1(x)), self.drop)\n",
    "        x = F.relu(self.fc2(x))\n",
    "        x = F.relu(self.fc3(x))\n",
    "        x = F.softmax(self.fc4(x), dim=1)\n",
    "\n",
    "        return x\n",
    "\n",
    "    def interm_features(self, x):\n",
    "        with torch.no_grad():\n",
    "            x = self.conv(x)\n",
    "            x = torch.flatten(x, 1)\n",
    "            x = F.dropout(F.relu(self.fc1(x)), self.drop)\n",
    "            x = F.relu(self.fc2(x))\n",
    "            x = F.relu(self.fc3(x))\n",
    "            return x\n"
   ]
  },
  {
   "cell_type": "code",
   "execution_count": 49,
   "metadata": {},
   "outputs": [],
   "source": [
    "torch.manual_seed(9)\n",
    "alex = AlexNet(102, 0.5)\n",
    "criterion = nn.CrossEntropyLoss()\n",
    "optimiser = torch.optim.Adam(alex.parameters(), lr=0.0001)\n"
   ]
  },
  {
   "cell_type": "code",
   "execution_count": 50,
   "metadata": {},
   "outputs": [
    {
     "name": "stdout",
     "output_type": "stream",
     "text": [
      "----------------------------------------------------------------\n",
      "        Layer (type)               Output Shape         Param #\n",
      "================================================================\n",
      "            Conv2d-1           [-1, 96, 55, 55]          34,944\n",
      "              ReLU-2           [-1, 96, 55, 55]               0\n",
      "         MaxPool2d-3           [-1, 96, 27, 27]               0\n",
      "            Conv2d-4          [-1, 256, 27, 27]         614,656\n",
      "              ReLU-5          [-1, 256, 27, 27]               0\n",
      "         MaxPool2d-6          [-1, 256, 13, 13]               0\n",
      "            Conv2d-7          [-1, 384, 13, 13]         885,120\n",
      "              ReLU-8          [-1, 384, 13, 13]               0\n",
      "            Conv2d-9          [-1, 384, 13, 13]       1,327,488\n",
      "             ReLU-10          [-1, 384, 13, 13]               0\n",
      "           Conv2d-11          [-1, 256, 13, 13]         884,992\n",
      "             ReLU-12          [-1, 256, 13, 13]               0\n",
      "        MaxPool2d-13            [-1, 256, 6, 6]               0\n",
      "          Dropout-14            [-1, 256, 6, 6]               0\n",
      "           Linear-15                 [-1, 4096]      37,752,832\n",
      "           Linear-16                 [-1, 4096]      16,781,312\n",
      "           Linear-17                  [-1, 300]       1,229,100\n",
      "           Linear-18                  [-1, 102]          30,702\n",
      "================================================================\n",
      "Total params: 59,541,146\n",
      "Trainable params: 59,541,146\n",
      "Non-trainable params: 0\n",
      "----------------------------------------------------------------\n",
      "Input size (MB): 0.59\n",
      "Forward/backward pass size (MB): 10.99\n",
      "Params size (MB): 227.13\n",
      "Estimated Total Size (MB): 238.71\n",
      "----------------------------------------------------------------\n"
     ]
    }
   ],
   "source": [
    "from torchsummary import summary\n",
    "summary(alex, (3, 227, 227))\n"
   ]
  },
  {
   "cell_type": "code",
   "execution_count": 51,
   "metadata": {},
   "outputs": [
    {
     "name": "stdout",
     "output_type": "stream",
     "text": [
      "CUDA is NOT available. Using CPU for training.\n"
     ]
    }
   ],
   "source": [
    "if torch.cuda.is_available():\n",
    "    print(\"CUDA available. Using GPU acceleration.\")\n",
    "    device = \"cuda\"\n",
    "else:\n",
    "    print(\"CUDA is NOT available. Using CPU for training.\")\n",
    "    device = \"cpu\"\n"
   ]
  },
  {
   "cell_type": "code",
   "execution_count": null,
   "metadata": {},
   "outputs": [],
   "source": [
    "try:\n",
    "    alex.load_state_dict(torch.load('./alex_en.pt'))\n",
    "except:\n",
    "    n_train = len(train_data)\n",
    "    n_val = len(val_data)\n",
    "    e = 500\n",
    "\n",
    "    train_losses = []\n",
    "    val_losses = []\n",
    "    train_accuracy = []\n",
    "    val_accuracy = []\n",
    "\n",
    "    for i in range(e):\n",
    "        trn_corr = 0\n",
    "        val_corr = 0\n",
    "\n",
    "        for b, (X_train, y_train) in enumerate(train_loader):\n",
    "            y_pred = alex(X_train)\n",
    "            loss = criterion(y_pred, y_train)\n",
    "\n",
    "            predicted = torch.max(y_pred.data, 1)[1]\n",
    "            batch_corr = (predicted == y_train).sum()\n",
    "            trn_corr += batch_corr\n",
    "\n",
    "            optimiser.zero_grad()\n",
    "            loss.backward()\n",
    "            optimiser.step()\n",
    "\n",
    "        train_losses.append(loss.item())\n",
    "        train_accuracy.append(trn_corr*100/n_train)\n",
    "\n",
    "        with torch.no_grad():\n",
    "            for b, (X_val, y_val) in enumerate(val_loader):\n",
    "                y_val = alex(X_val)\n",
    "                predicted = torch.max(y_val.data, 1)[1]\n",
    "                val_corr += (predicted == y_val).sum()\n",
    "\n",
    "        loss = criterion(y_val, y_val)\n",
    "        val_losses.append(loss.item())\n",
    "        val_accuracy.append(val_corr*100/n_val)\n",
    "\n",
    "        print(\n",
    "            f'epoch: {i+1}\\ttrain loss: {train_losses[i]:.3f} \\ttrain accuracy: {train_accuracy[i]:2.3f}%')\n",
    "        print(\n",
    "            f\"\\t\\tval loss:  {val_losses[i]:.3f} \\tval accuracy:  {val_accuracy[i]:2.3f}%\\n\")\n"
   ]
  },
  {
   "cell_type": "code",
   "execution_count": null,
   "metadata": {},
   "outputs": [],
   "source": [
    "all_interm_features_train = []\n",
    "train_labels = []\n",
    "for b, (x, y) in enumerate(train_loader):\n",
    "    all_interm_features_train.append(alex.interm_features(x))\n",
    "    train_labels.append(y.view(10, 1))\n",
    "\n",
    "train_features = torch.concatenate(all_interm_features_train, axis=0)\n",
    "train_labels = torch.concatenate(train_labels, axis=0)\n",
    "\n",
    "all_interm_features_test = []\n",
    "test_labels = []\n",
    "for b, (x, y) in enumerate(test_loader):\n",
    "    all_interm_features_test.append(alex.interm_features(x))\n",
    "    test_labels.append(y.view(10, 1))\n",
    "\n",
    "test_features = torch.concatenate(all_interm_features_test, axis=0)\n",
    "test_labels = torch.concatenate(test_labels, axis=0)\n",
    "\n",
    "train_df = pd.DataFrame(train_features)\n",
    "train_df['y'] = train_labels\n",
    "test_df = pd.DataFrame(test_features)\n",
    "test_df['y'] = test_labels\n",
    "\n",
    "train_df.to_csv('alex_train.csv', index=False)\n",
    "test_df.to_csv('alex_test.csv', index=False)\n"
   ]
  },
  {
   "cell_type": "code",
   "execution_count": null,
   "metadata": {},
   "outputs": [],
   "source": [
    "from sklearn.metrics import confusion_matrix, accuracy_score\n",
    "from sklearn.ensemble import RandomForestClassifier\n",
    "from sklearn.preprocessing import StandardScaler\n",
    "df_train = pd.read_csv('alex_train.csv')\n",
    "df_test = pd.read_csv('alex_test.csv')\n",
    "\n",
    "X_train = df_train.iloc[:, :-1].values\n",
    "y_train = df_train.iloc[:, -1].values\n",
    "X_test = df_test.iloc[:, :-1].values\n",
    "y_test = df_test.iloc[:, -1].values\n",
    "\n",
    "scaler = StandardScaler()\n",
    "X_train = scaler.fit_transform(X_train)\n",
    "X_test = scaler.transform(X_test)\n",
    "\n",
    "clf = RandomForestClassifier(\n",
    "    n_estimators=50,\n",
    "    criterion='entropy',\n",
    "    random_state=0\n",
    ")\n",
    "clf.fit(X_train, y_train)\n",
    "y_pred = clf.predict(X_test)\n",
    "\n",
    "acc = accuracy_score(y_test, y_pred)\n",
    "cm = confusion_matrix(y_test, y_pred)\n",
    "print(f\"Accuracy with Random Forest: {round(acc*100, 2)}%\")\n"
   ]
  }
 ],
 "metadata": {
  "kernelspec": {
   "display_name": "Python 3",
   "language": "python",
   "name": "python3"
  },
  "language_info": {
   "codemirror_mode": {
    "name": "ipython",
    "version": 3
   },
   "file_extension": ".py",
   "mimetype": "text/x-python",
   "name": "python",
   "nbconvert_exporter": "python",
   "pygments_lexer": "ipython3",
   "version": "3.10.5"
  },
  "orig_nbformat": 4
 },
 "nbformat": 4,
 "nbformat_minor": 2
}
