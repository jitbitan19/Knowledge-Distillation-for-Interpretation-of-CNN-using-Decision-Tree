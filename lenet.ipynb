{
 "cells": [
  {
   "cell_type": "code",
   "execution_count": 1,
   "metadata": {},
   "outputs": [],
   "source": [
    "import pandas as pd\n",
    "import numpy as np\n",
    "import matplotlib.pyplot as plt\n",
    "from torch.utils.data import DataLoader\n",
    "from torchvision import datasets, transforms\n",
    "import seaborn as sns\n",
    "\n",
    "import torch\n",
    "import torch.nn as nn\n",
    "import torch.nn.functional as F\n",
    "from torch.utils.data import DataLoader\n"
   ]
  },
  {
   "cell_type": "code",
   "execution_count": 2,
   "metadata": {},
   "outputs": [
    {
     "name": "stdout",
     "output_type": "stream",
     "text": [
      "Files already downloaded and verified\n",
      "Files already downloaded and verified\n"
     ]
    }
   ],
   "source": [
    "# txf = transforms.ToTensor()\n",
    "txf = transforms.Compose([\n",
    "    transforms.Grayscale(),\n",
    "    transforms.ToTensor(),\n",
    "])\n",
    "train_data = datasets.CIFAR10(\n",
    "    root='cifar10/',\n",
    "    train=True,\n",
    "    download=True,\n",
    "    transform=txf\n",
    ")\n",
    "test_data = datasets.CIFAR10(\n",
    "    root='cifar10/',\n",
    "    train=False,\n",
    "    download=True,\n",
    "    transform=txf\n",
    ")\n"
   ]
  },
  {
   "cell_type": "code",
   "execution_count": 3,
   "metadata": {},
   "outputs": [],
   "source": [
    "torch.manual_seed(9)\n",
    "train_loader = DataLoader(train_data, batch_size=10, shuffle=True)\n",
    "test_loader = DataLoader(test_data, batch_size=10, shuffle=True)\n"
   ]
  },
  {
   "cell_type": "code",
   "execution_count": 4,
   "metadata": {},
   "outputs": [],
   "source": [
    "class Lenet(nn.Module):\n",
    "    def __init__(self, out_size) -> None:\n",
    "        super().__init__()\n",
    "\n",
    "        self.conv = nn.Sequential(\n",
    "            nn.Conv2d(\n",
    "                in_channels=1,\n",
    "                out_channels=6,\n",
    "                kernel_size=5,\n",
    "            ),\n",
    "            nn.MaxPool2d(kernel_size=2, stride=2),\n",
    "\n",
    "            nn.Conv2d(\n",
    "                in_channels=6,\n",
    "                out_channels=16,\n",
    "                kernel_size=5\n",
    "            ),\n",
    "            nn.MaxPool2d(kernel_size=2, stride=2),\n",
    "\n",
    "            nn.Conv2d(\n",
    "                in_channels=16,\n",
    "                out_channels=120,\n",
    "                kernel_size=5\n",
    "            )\n",
    "        )\n",
    "\n",
    "        self.fc1 = nn.Linear(120, 30)\n",
    "        self.fc2 = nn.Linear(30, out_size)\n",
    "\n",
    "    def forward(self, x):\n",
    "        x = self.conv(x)\n",
    "        x = torch.flatten(x, 1)\n",
    "        x = F.relu(self.fc1(x))\n",
    "        x = F.relu(self.fc2(x))\n",
    "        return F.softmax(x, dim=1)\n",
    "\n",
    "    def interm_features(self, x):\n",
    "        with torch.no_grad():\n",
    "            x = self.conv(x)\n",
    "            x = torch.flatten(x, 1)\n",
    "            x = F.relu(self.fc1(x))\n",
    "            return x\n"
   ]
  },
  {
   "cell_type": "code",
   "execution_count": 5,
   "metadata": {},
   "outputs": [],
   "source": [
    "torch.manual_seed(9)\n",
    "lenet = Lenet(10)\n",
    "criterion = nn.CrossEntropyLoss()\n",
    "optimiser = torch.optim.Adam(lenet.parameters(), lr=0.0001)\n"
   ]
  },
  {
   "cell_type": "code",
   "execution_count": 6,
   "metadata": {},
   "outputs": [
    {
     "name": "stdout",
     "output_type": "stream",
     "text": [
      "----------------------------------------------------------------\n",
      "        Layer (type)               Output Shape         Param #\n",
      "================================================================\n",
      "            Conv2d-1            [-1, 6, 28, 28]             156\n",
      "         MaxPool2d-2            [-1, 6, 14, 14]               0\n",
      "            Conv2d-3           [-1, 16, 10, 10]           2,416\n",
      "         MaxPool2d-4             [-1, 16, 5, 5]               0\n",
      "            Conv2d-5            [-1, 120, 1, 1]          48,120\n",
      "            Linear-6                   [-1, 30]           3,630\n",
      "            Linear-7                   [-1, 10]             310\n",
      "================================================================\n",
      "Total params: 54,632\n",
      "Trainable params: 54,632\n",
      "Non-trainable params: 0\n",
      "----------------------------------------------------------------\n",
      "Input size (MB): 0.00\n",
      "Forward/backward pass size (MB): 0.06\n",
      "Params size (MB): 0.21\n",
      "Estimated Total Size (MB): 0.27\n",
      "----------------------------------------------------------------\n"
     ]
    }
   ],
   "source": [
    "from torchsummary import summary\n",
    "summary(lenet, (1, 32, 32))\n"
   ]
  },
  {
   "cell_type": "code",
   "execution_count": 7,
   "metadata": {},
   "outputs": [],
   "source": [
    "try:\n",
    "    lenet.load_state_dict(torch.load('./lenet_en.pt'))\n",
    "except:\n",
    "    n_train = len(train_data)\n",
    "    n_test = len(test_data)\n",
    "    e = 500\n",
    "\n",
    "    train_losses = []\n",
    "    test_losses = []\n",
    "    train_accuracy = []\n",
    "    test_accuracy = []\n",
    "\n",
    "    for i in range(e):\n",
    "        trn_corr = 0\n",
    "        tst_corr = 0\n",
    "\n",
    "        for b, (X_train, y_train) in enumerate(train_loader):\n",
    "            y_pred = lenet.forward(X_train)\n",
    "            loss = criterion(y_pred, y_train)\n",
    "\n",
    "            predicted = torch.max(y_pred.data, 1)[1]\n",
    "            batch_corr = (predicted == y_train).sum()\n",
    "            trn_corr += batch_corr\n",
    "\n",
    "            optimiser.zero_grad()\n",
    "            loss.backward()\n",
    "            optimiser.step()\n",
    "\n",
    "        train_losses.append(loss.item())\n",
    "        train_accuracy.append(trn_corr*100/n_train)\n",
    "\n",
    "        with torch.no_grad():\n",
    "            for b, (X_test, y_test) in enumerate(test_loader):\n",
    "                y_val = lenet(X_test)\n",
    "                predicted = torch.max(y_val.data, 1)[1]\n",
    "                tst_corr += (predicted == y_test).sum()\n",
    "\n",
    "        loss = criterion(y_val, y_test)\n",
    "        test_losses.append(loss.item())\n",
    "        test_accuracy.append(tst_corr*100/n_test)\n",
    "\n",
    "        print(\n",
    "            f'epoch: {i+1}\\ttrain loss: {train_losses[i]:.3f} \\ttrain accuracy: {train_accuracy[i]:2.3f}%')\n",
    "        print(\n",
    "            f\"\\t\\ttest loss:  {test_losses[i]:.3f} \\ttest accuracy:  {test_accuracy[i]:2.3f}%\\n\")\n",
    "\n",
    "    torch.save(lenet.state_dict(), 'lenet_en.pt')\n"
   ]
  },
  {
   "cell_type": "code",
   "execution_count": 8,
   "metadata": {},
   "outputs": [],
   "source": [
    "all_interm_features_train = []\n",
    "train_labels = []\n",
    "\n",
    "for b, (x, y) in enumerate(train_loader):\n",
    "    all_interm_features_train.append(lenet.interm_features(x))\n",
    "    train_labels.append(y.view(10, 1))\n",
    "\n",
    "train_features = torch.concatenate(all_interm_features_train, axis=0)\n",
    "train_labels = torch.concatenate(train_labels, axis=0)\n",
    "\n",
    "all_interm_features_test = []\n",
    "test_labels = []\n",
    "for b, (x, y) in enumerate(test_loader):\n",
    "    all_interm_features_test.append(lenet.interm_features(x))\n",
    "    test_labels.append(y.view(10, 1))\n",
    "\n",
    "test_features = torch.concatenate(all_interm_features_test, axis=0)\n",
    "test_labels = torch.concatenate(test_labels, axis=0)\n",
    "\n",
    "train_df = pd.DataFrame(train_features)\n",
    "train_df['y'] = train_labels\n",
    "test_df = pd.DataFrame(test_features)\n",
    "test_df['y'] = test_labels\n",
    "\n",
    "train_df.to_csv('lenet_train.csv', index=False)\n",
    "test_df.to_csv('lenet_test.csv', index=False)\n"
   ]
  },
  {
   "attachments": {},
   "cell_type": "markdown",
   "metadata": {},
   "source": [
    "## Reading the Dataset"
   ]
  },
  {
   "cell_type": "code",
   "execution_count": 11,
   "metadata": {},
   "outputs": [
    {
     "name": "stdout",
     "output_type": "stream",
     "text": [
      "Accuracy with Random Forest: 51.81%\n"
     ]
    }
   ],
   "source": [
    "from sklearn.metrics import confusion_matrix, accuracy_score\n",
    "from sklearn.ensemble import RandomForestClassifier\n",
    "from sklearn.preprocessing import StandardScaler\n",
    "df_train = pd.read_csv('lenet_train.csv')\n",
    "df_test = pd.read_csv('lenet_test.csv')\n",
    "X_train = df_train.iloc[:, :-1].values\n",
    "y_train = df_train.iloc[:, -1].values\n",
    "\n",
    "X_test = df_test.iloc[:, :-1].values\n",
    "y_test = df_test.iloc[:, -1].values\n",
    "\n",
    "scaler = StandardScaler()\n",
    "\n",
    "X_train = scaler.fit_transform(X_train)\n",
    "X_test = scaler.transform(X_test)\n",
    "\n",
    "clf = RandomForestClassifier(\n",
    "    n_estimators=50,\n",
    "    criterion='entropy',\n",
    "    random_state=0\n",
    ")\n",
    "clf.fit(X_train, y_train)\n",
    "y_pred = clf.predict(X_test)\n",
    "\n",
    "acc = accuracy_score(y_test, y_pred)\n",
    "cm = confusion_matrix(y_test, y_pred)\n",
    "print(f\"Accuracy with Random Forest: {round(acc*100, 2)}%\")\n"
   ]
  }
 ],
 "metadata": {
  "kernelspec": {
   "display_name": "Python 3",
   "language": "python",
   "name": "python3"
  },
  "language_info": {
   "codemirror_mode": {
    "name": "ipython",
    "version": 3
   },
   "file_extension": ".py",
   "mimetype": "text/x-python",
   "name": "python",
   "nbconvert_exporter": "python",
   "pygments_lexer": "ipython3",
   "version": "3.10.5"
  },
  "orig_nbformat": 4
 },
 "nbformat": 4,
 "nbformat_minor": 2
}
